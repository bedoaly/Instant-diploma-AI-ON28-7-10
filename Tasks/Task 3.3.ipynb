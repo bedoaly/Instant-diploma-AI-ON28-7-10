{
 "cells": [
  {
   "cell_type": "code",
   "execution_count": null,
   "id": "f436dcf4",
   "metadata": {},
   "outputs": [],
   "source": [
    "class Graph:\n",
    "    def __init__(self, num_vertices):\n",
    "        self.num_vertices = num_vertices\n",
    "        self.adjacency_matrix = [[0] * num_vertices for _ in range(num_vertices)]\n",
    "\n",
    "    def add_edge(self, vertex1, vertex2):\n",
    "        if 0 <= vertex1 < self.num_vertices and 0 <= vertex2 < self.num_vertices:\n",
    "            self.adjacency_matrix[vertex1][vertex2] = 1\n",
    "            self.adjacency_matrix[vertex2][vertex1] = 1  # Uncomment for undirected graphs\n",
    "\n",
    "    def get_neighbors(self, vertex):\n",
    "        if 0 <= vertex < self.num_vertices:\n",
    "            neighbors = []\n",
    "            for i in range(self.num_vertices):\n",
    "                if self.adjacency_matrix[vertex][i] == 1:\n",
    "                    neighbors.append(i)\n",
    "            return neighbors\n",
    "        else:\n",
    "            return None\n",
    "\n",
    "# Example usage\n",
    "graph = Graph(3)\n",
    "graph.add_edge(0, 1)\n",
    "graph.add_edge(1, 2)\n",
    "graph.add_edge(2, 0)\n",
    "\n",
    "print(graph.get_neighbors(0))  # Output: [1, 2]\n"
   ]
  }
 ],
 "metadata": {
  "kernelspec": {
   "display_name": "Python 3 (ipykernel)",
   "language": "python",
   "name": "python3"
  },
  "language_info": {
   "codemirror_mode": {
    "name": "ipython",
    "version": 3
   },
   "file_extension": ".py",
   "mimetype": "text/x-python",
   "name": "python",
   "nbconvert_exporter": "python",
   "pygments_lexer": "ipython3",
   "version": "3.11.3"
  }
 },
 "nbformat": 4,
 "nbformat_minor": 5
}
