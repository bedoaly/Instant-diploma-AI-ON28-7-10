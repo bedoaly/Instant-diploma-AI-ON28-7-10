{
 "cells": [
  {
   "cell_type": "markdown",
   "id": "759d04ba",
   "metadata": {},
   "source": [
    "**1-Write a Python program to calculate the length of a string using 2 ways"
   ]
  },
  {
   "cell_type": "code",
   "execution_count": 2,
   "id": "e434c950",
   "metadata": {},
   "outputs": [
    {
     "name": "stdout",
     "output_type": "stream",
     "text": [
      "7\n",
      "7\n"
     ]
    }
   ],
   "source": [
    "j=input(\"write a word\")\n",
    "print(len(j))"
   ]
  },
  {
   "cell_type": "code",
   "execution_count": null,
   "id": "7a2dfa32",
   "metadata": {},
   "outputs": [],
   "source": [
    "k=input(\"write a word\")\n",
    "for i in j:\n",
    "    k+=1\n",
    "print(k)"
   ]
  },
  {
   "cell_type": "markdown",
   "id": "d7cc9da7",
   "metadata": {},
   "source": [
    "**2-Write a Python program to get a string made of the first 2 and last 2 characters of a given string. If the string length is less than 2, return the empty string instead (\"##Sample String : 'w3resource'\n",
    "Expected Result : 'w3ce'\n",
    "##Sample String : 'w3'\n",
    "Expected Result : 'w3w3'\n",
    "##Sample String : ' w'\n",
    "Expected Result : Empty String)"
   ]
  },
  {
   "cell_type": "code",
   "execution_count": null,
   "id": "dafa9dd8",
   "metadata": {},
   "outputs": [],
   "source": [
    "k=input(\"write a word\")\n",
    "if len(k)>=2:\n",
    "    print(k[0:2]+k[-2:])\n",
    "else:\n",
    "    print(\"\")"
   ]
  },
  {
   "cell_type": "markdown",
   "id": "1534f956",
   "metadata": {},
   "source": [
    "**3-Write a Python program to add 'ing' at the end of a given string (length should be at least 3). If the given string already ends with 'ing', add 'ly' instead. If the string length of the given string is less than 3, leave it unchanged. (Sample String : 'abc'\n",
    "Expected Result : 'abcing')"
   ]
  },
  {
   "cell_type": "code",
   "execution_count": 5,
   "id": "7ff8cec4",
   "metadata": {},
   "outputs": [
    {
     "name": "stdout",
     "output_type": "stream",
     "text": [
      "write a word\tjnlk\n"
     ]
    }
   ],
   "source": [
    "k=input(\"write a word\\t\")\n",
    "length=len(k)\n",
    "print(length)\n",
    "print(k[-3:])\n",
    "if k[-3:]==\"ing\" and length >=3:\n",
    "    k=k[0:-3]+\"ly\"\n",
    "elif k[-3:]!=\"ing\" and length>=3:\n",
    "    k=k+\"ing\"\n",
    "print(k)"
   ]
  },
  {
   "cell_type": "markdown",
   "id": "1c0a6627",
   "metadata": {},
   "source": [
    ".0**4-Write a Python function that takes a list of words and return the longest word and the length of the longest one\n",
    "(Longest word: Exercises\n",
    "Length of the longest word: 9)"
   ]
  },
  {
   "cell_type": "code",
   "execution_count": 4,
   "id": "397341d9",
   "metadata": {},
   "outputs": [],
   "source": [
    "def longetword(list):\n",
    "    k=0\n",
    "    l=\"\"\n",
    "    for i in list:\n",
    "        if k<len(i):\n",
    "            k=len(i)\n",
    "            l=i\n",
    "    return l\n",
    "list=[\"ahmed\",\"abdallah\",\"rashad\"]\n",
    "print(longetword(list))\n",
    "            km"
   ]
  },
  {
   "cell_type": "markdown",
   "id": "53a03a6a",
   "metadata": {},
   "source": [
    "**5-Write a Python program to change a given string to a newly string where the first and last chars have been exchanged using 2 ways (Sample String:abca  Expected Result:ebce)"
   ]
  },
  {
   "cell_type": "code",
   "execution_count": 4,
   "id": "fd327d2a",
   "metadata": {},
   "outputs": [
    {
     "name": "stdout",
     "output_type": "stream",
     "text": [
      "abca\n"
     ]
    }
   ],
   "source": [
    "l=\"zbcz\"\n",
    "firstele=l[0]\n",
    "asccicode=ord(firstele)\n",
    "if firstele==\"z\":\n",
    "    asccicode=ord(\"a\")\n",
    "    asccicode-=1\n",
    "nextletter1=chr(asccicode+1)\n",
    "lastele=l[-1]\n",
    "asccicode=ord(lastele)\n",
    "if lastele==\"z\":\n",
    "    asccicode=ord(\"a\")\n",
    "    asccicode-=1\n",
    "nextletter2=chr(asccicode+1)\n",
    "l=nextletter1+l[1:-1]+nextletter2\n",
    "print(l)"
   ]
  },
  {
   "cell_type": "code",
   "execution_count": 6,
   "id": "285788b4",
   "metadata": {},
   "outputs": [
    {
     "name": "stdout",
     "output_type": "stream",
     "text": [
      "zbcz\n"
     ]
    }
   ],
   "source": [
    "l=\"abca\"\n",
    "firstele=l[0]\n",
    "asccicode=ord(firstele)\n",
    "if firstele==\"a\":\n",
    "    asccicode=ord(\"z\")\n",
    "    asccicode+=1\n",
    "nextletter1=chr(asccicode-1)\n",
    "lastele=l[-1]\n",
    "asccicode=ord(lastele)\n",
    "if lastele==\"a\":\n",
    "    asccicode=ord(\"z\")\n",
    "    asccicode+=1\n",
    "nextletter2=chr(asccicode-1)\n",
    "l=nextletter1+l[1:-1]+nextletter2\n",
    "print(l)"
   ]
  },
  {
   "cell_type": "markdown",
   "id": "25f89808",
   "metadata": {},
   "source": [
    "**6-Write a Python program to remove characters that have odd index values in a given string (Sample String:abca Expected Result:ac)"
   ]
  },
  {
   "cell_type": "code",
   "execution_count": 7,
   "id": "05959bd7",
   "metadata": {},
   "outputs": [
    {
     "name": "stdout",
     "output_type": "stream",
     "text": [
      "ac\n"
     ]
    }
   ],
   "source": [
    "f=\"abca\"\n",
    "f=f[::2]\n",
    "print(f)"
   ]
  },
  {
   "cell_type": "markdown",
   "id": "eb16e898",
   "metadata": {},
   "source": [
    "**7-Write a Python program to count the occurrences of each word in a given sentence (Sample String:amr and ahmed are frindes but amr is the tallest Expected Result:2)"
   ]
  },
  {
   "cell_type": "code",
   "execution_count": null,
   "id": "01ce6cf5",
   "metadata": {},
   "outputs": [],
   "source": [
    "a=\"amr\"\n",
    "b=\"ahmed\"\n",
    "if len(a)>len(b):\n",
    "    print(1)\n",
    "elif len(a)<len(b):\n",
    "    print(2)\n",
    "else:\n",
    "    print(\"the same length\")"
   ]
  },
  {
   "cell_type": "markdown",
   "id": "4e8125f1",
   "metadata": {},
   "source": [
    "**8-Write a Python script that takes input from the user and displays that input back in upper and lower cases"
   ]
  },
  {
   "cell_type": "code",
   "execution_count": 9,
   "id": "66c8f778",
   "metadata": {},
   "outputs": [
    {
     "name": "stdout",
     "output_type": "stream",
     "text": [
      "write anythingassAsDAWA\n",
      "ASSASDAWA  assasdawa\n"
     ]
    }
   ],
   "source": [
    "k=input(\"write anything\")\n",
    "print(k.upper()+\"  \"+k.lower())"
   ]
  },
  {
   "cell_type": "markdown",
   "id": "fcd68aa1",
   "metadata": {},
   "source": [
    "**9-Write a Python function to reverse a string if its length is a multiple of 4"
   ]
  },
  {
   "cell_type": "code",
   "execution_count": 19,
   "id": "0671a931",
   "metadata": {},
   "outputs": [
    {
     "name": "stdout",
     "output_type": "stream",
     "text": [
      "write anything : \tasdqw\n",
      "asdqw\n"
     ]
    }
   ],
   "source": [
    "k=input(\"write anything : \\t\")\n",
    "if len(k)%4==0:\n",
    "    k=k[::-1]\n",
    "print(k)"
   ]
  },
  {
   "cell_type": "markdown",
   "id": "b577c68d",
   "metadata": {},
   "source": [
    "**10- Write a Python program to remove a newline in Python"
   ]
  },
  {
   "cell_type": "code",
   "execution_count": 22,
   "id": "e0c6525a",
   "metadata": {},
   "outputs": [
    {
     "name": "stdout",
     "output_type": "stream",
     "text": [
      "asdw  sadwdas dfsdf\n"
     ]
    }
   ],
   "source": [
    "k=\"asdw \\n sadwdas\\n dfsdf\\n\"\n",
    "print(k.replace(\"\\n\",\"\"))"
   ]
  },
  {
   "cell_type": "markdown",
   "id": "80db5ae0",
   "metadata": {},
   "source": [
    "**11-Write a Python program to check whether a string starts with specified characters"
   ]
  },
  {
   "cell_type": "code",
   "execution_count": null,
   "id": "0cc4e03e",
   "metadata": {},
   "outputs": [],
   "source": [
    "k=\"asdwqedsa\"\n",
    "if k[0]==\"a\":\n",
    "    print(\"found\")\n",
    "else:\n",
    "    print(\"not found\")"
   ]
  },
  {
   "cell_type": "markdown",
   "id": "593a68db",
   "metadata": {},
   "source": [
    "**12- Write a Python program to add prefix text to all of the lines in a string"
   ]
  },
  {
   "cell_type": "code",
   "execution_count": 23,
   "id": "d2e46ada",
   "metadata": {},
   "outputs": [
    {
     "name": "stdout",
     "output_type": "stream",
     "text": [
      ">Hey i am a abdallah aly\n",
      ">Now days i am doing tarining in AI and Machine learning\n",
      ">I am doing training from instant\n"
     ]
    }
   ],
   "source": [
    "pera='''Hey i am a abdallah aly.Now days i am doing tarining in AI and Machine learning.I am doing training from instant'''\n",
    "list1=pera.split('.')\n",
    "for i in list1:\n",
    "    print(\">\"+i)"
   ]
  },
  {
   "cell_type": "markdown",
   "id": "86fa1543",
   "metadata": {},
   "source": [
    "**13-Write a Python program to print the following numbers up to 2 decimal places"
   ]
  },
  {
   "cell_type": "code",
   "execution_count": 25,
   "id": "cd4a9d89",
   "metadata": {},
   "outputs": [
    {
     "name": "stdout",
     "output_type": "stream",
     "text": [
      "\n",
      "Original Number:  45.65132\n",
      "Formatted Number: 45.65\n",
      "Original Number:  94132.7564\n",
      "Formatted Number: 94132.76\n",
      "\n"
     ]
    }
   ],
   "source": [
    "x = 45.65132\n",
    "y = 94132.7564\n",
    "print(\"Formatted Number: \"+\"{:.2f}\".format(x));\n",
    "print(\"Formatted Number: \"+\"{:.2f}\".format(y));"
   ]
  },
  {
   "cell_type": "markdown",
   "id": "452c0ab0",
   "metadata": {},
   "source": [
    "**14-Write a Python program to print the following numbers up to 2 decimal places with a sign"
   ]
  },
  {
   "cell_type": "code",
   "execution_count": 26,
   "id": "73e82479",
   "metadata": {},
   "outputs": [
    {
     "name": "stdout",
     "output_type": "stream",
     "text": [
      "Formatted Number with sign: +3.14\n",
      "Formatted Number with sign: -13.00\n"
     ]
    }
   ],
   "source": [
    "x = 3.1415926\n",
    "y = -12.9999\n",
    "print(\"Formatted Number with sign: \"+\"{:+.2f}\".format(x));\n",
    "print(\"Formatted Number with sign: \"+\"{:+.2f}\".format(y));"
   ]
  },
  {
   "cell_type": "markdown",
   "id": "32b1811a",
   "metadata": {},
   "source": [
    "**15-Write a Python program to display a number with a comma separator"
   ]
  },
  {
   "cell_type": "code",
   "execution_count": 28,
   "id": "f30fc0b6",
   "metadata": {},
   "outputs": [
    {
     "name": "stdout",
     "output_type": "stream",
     "text": [
      "Formatted Number with comma separator: 400,000\n",
      "Formatted Number with comma separator: 2,000\n"
     ]
    }
   ],
   "source": [
    "x = 400000\n",
    "y = 2000\n",
    "print(\"Formatted Number with comma separator: \"+\"{:,}\".format(x));\n",
    "print(\"Formatted Number with comma separator: \"+\"{:,}\".format(y));"
   ]
  },
  {
   "cell_type": "markdown",
   "id": "0477f487",
   "metadata": {},
   "source": [
    "**16-Write a Python program to reverse a string using 2 ways"
   ]
  },
  {
   "cell_type": "code",
   "execution_count": 30,
   "id": "aa8beec8",
   "metadata": {},
   "outputs": [
    {
     "name": "stdout",
     "output_type": "stream",
     "text": [
      "dlrow olleh\n",
      "dlrow olleh\n"
     ]
    }
   ],
   "source": [
    "my_string = \"hello world\"\n",
    "reversed_string = ''.join(reversed(my_string))\n",
    "print(reversed_string)\n",
    "my_string = \"hello world\"\n",
    "reversed_string = my_string[::-1]\n",
    "print(reversed_string)"
   ]
  },
  {
   "cell_type": "markdown",
   "id": "5afc3166",
   "metadata": {},
   "source": [
    " **17-Write a Python program to count repeated characters in a string (hint:use dictionary)"
   ]
  },
  {
   "cell_type": "code",
   "execution_count": 36,
   "id": "515a469c",
   "metadata": {},
   "outputs": [
    {
     "name": "stdout",
     "output_type": "stream",
     "text": [
      "a   26\n"
     ]
    }
   ],
   "source": [
    "l=\"asdwasfqweasdasdaaaaaaaaaaaaaaaaaaaaaaa\"\n",
    "k=dict()\n",
    "for i in l:\n",
    "    if i in k:\n",
    "        f=k[i]\n",
    "        f+=1\n",
    "        k[str(i)]=f\n",
    "    else:\n",
    "        k[str(i)]=0\n",
    "max1=max(k.values())\n",
    "for i in k.keys():\n",
    "    if k[i]==max1:\n",
    "        a=i\n",
    "print(a+\"  \",max1)\n",
    "    \n"
   ]
  },
  {
   "cell_type": "markdown",
   "id": "ae14e4e5",
   "metadata": {},
   "source": [
    "**18-Write a Python program to find the first non-repeating character in a given string"
   ]
  },
  {
   "cell_type": "code",
   "execution_count": 37,
   "id": "d73778e5",
   "metadata": {},
   "outputs": [
    {
     "name": "stdout",
     "output_type": "stream",
     "text": [
      "d\n"
     ]
    }
   ],
   "source": [
    "l=\"asdaaswfg\"\n",
    "for i in l:\n",
    "    if l.count(i)==1:\n",
    "        print(i)\n",
    "        break"
   ]
  },
  {
   "cell_type": "markdown",
   "id": "3adf5669",
   "metadata": {},
   "source": [
    "**19-Write a Python program to remove spaces from a given string"
   ]
  },
  {
   "cell_type": "code",
   "execution_count": 39,
   "id": "b4f22602",
   "metadata": {},
   "outputs": [
    {
     "name": "stdout",
     "output_type": "stream",
     "text": [
      "asd\n"
     ]
    }
   ],
   "source": [
    "k=\"    asd     \".strip()\n",
    "print(k)"
   ]
  },
  {
   "cell_type": "markdown",
   "id": "734de60c",
   "metadata": {},
   "source": [
    "**20-Write a Python program to count the number of non-empty substrings of a given string"
   ]
  },
  {
   "cell_type": "code",
   "execution_count": 41,
   "id": "ef3f2274",
   "metadata": {},
   "outputs": [
    {
     "name": "stdout",
     "output_type": "stream",
     "text": [
      "Input a string: sad\n",
      "Number of substrings:\n",
      "6\n"
     ]
    }
   ],
   "source": [
    "def number_of_substrings(str): \n",
    "    str_len = len(str); \n",
    "    return int(str_len * (str_len + 1) / 2); \n",
    "\n",
    "str1 = input(\"Input a string: \")\n",
    "print(\"Number of substrings:\") \n",
    "print(number_of_substrings(str1))"
   ]
  },
  {
   "cell_type": "markdown",
   "id": "509998e2",
   "metadata": {},
   "source": [
    "**21-write a Python program to swap first and last element of any list."
   ]
  },
  {
   "cell_type": "code",
   "execution_count": 42,
   "id": "68692d7f",
   "metadata": {},
   "outputs": [
    {
     "name": "stdout",
     "output_type": "stream",
     "text": [
      "[6, 2, 3, 4, 5, 1]\n"
     ]
    }
   ],
   "source": [
    "l=[1,2,3,4,5,6]\n",
    "firstelement=l[0]\n",
    "lastelement=l[-1]\n",
    "l[0]=lastelement\n",
    "l[-1]=firstelement\n",
    "print(l)"
   ]
  },
  {
   "cell_type": "markdown",
   "id": "959e0837",
   "metadata": {},
   "source": [
    "**22-Given a list in Python and provided the positions of the elements, write a program to swap the two elements in the list. (Input : List = [23, 65, 19, 90], pos1 = 1, pos2 = 3\n",
    "Output : [19, 65, 23, 90])"
   ]
  },
  {
   "cell_type": "code",
   "execution_count": 46,
   "id": "225d8c6d",
   "metadata": {},
   "outputs": [
    {
     "name": "stdout",
     "output_type": "stream",
     "text": [
      "[23, 90, 19, 65]\n"
     ]
    }
   ],
   "source": [
    "l=[23, 65, 19, 90]\n",
    "pos1 = 2-1\n",
    "firstelement=l[pos1]\n",
    "pos2 = 4-1\n",
    "lastelement=l[pos2]\n",
    "l[pos1]=lastelement\n",
    "l[pos2]=firstelement\n",
    "print(l)"
   ]
  },
  {
   "cell_type": "markdown",
   "id": "66fc6682",
   "metadata": {},
   "source": [
    "**23- search for the all ways to know the length of the list"
   ]
  },
  {
   "cell_type": "code",
   "execution_count": null,
   "id": "63ff8b43",
   "metadata": {},
   "outputs": [],
   "source": [
    "**24-write a Python code to find the Maximum number of list of numbers."
   ]
  },
  {
   "cell_type": "code",
   "execution_count": 48,
   "id": "15f342de",
   "metadata": {},
   "outputs": [
    {
     "name": "stdout",
     "output_type": "stream",
     "text": [
      "6\n"
     ]
    }
   ],
   "source": [
    "l=[0,1,2,3,4,5,6]\n",
    "print(max(l))"
   ]
  },
  {
   "cell_type": "code",
   "execution_count": null,
   "id": "1a89b9d3",
   "metadata": {},
   "outputs": [],
   "source": [
    "**25-write a Python code to find the Minimum number of list of numbers."
   ]
  },
  {
   "cell_type": "code",
   "execution_count": 47,
   "id": "21f8cbd6",
   "metadata": {},
   "outputs": [
    {
     "name": "stdout",
     "output_type": "stream",
     "text": [
      "0\n"
     ]
    }
   ],
   "source": [
    "l=[0,1,2,3,4,5,6]\n",
    "print(min(l))"
   ]
  },
  {
   "cell_type": "markdown",
   "id": "96822d96",
   "metadata": {},
   "source": [
    "**26-search for if an elem is existing in list"
   ]
  },
  {
   "cell_type": "code",
   "execution_count": 50,
   "id": "51ca5c9a",
   "metadata": {},
   "outputs": [
    {
     "name": "stdout",
     "output_type": "stream",
     "text": [
      "not found\n"
     ]
    }
   ],
   "source": [
    "list1=[1,2,3,4,5,6]\n",
    "\n",
    "if 7 in list1:\n",
    "    print(\"found\")\n",
    "else :\n",
    "    print(\"not found\")"
   ]
  },
  {
   "cell_type": "markdown",
   "id": "d9557da7",
   "metadata": {},
   "source": [
    "**27- clear python list using different ways"
   ]
  },
  {
   "cell_type": "code",
   "execution_count": 51,
   "id": "b69858a3",
   "metadata": {},
   "outputs": [
    {
     "name": "stdout",
     "output_type": "stream",
     "text": [
      "None\n",
      "[]\n"
     ]
    }
   ],
   "source": [
    "ds=[2,5,4,6,8,4]\n",
    "print(ds.clear())\n",
    "ds=[2,5,4,6,8,4]\n",
    "ds=[]\n",
    "print(ds)\n"
   ]
  },
  {
   "cell_type": "markdown",
   "id": "52160e88",
   "metadata": {},
   "source": [
    "**28-remove duplicated elements from a list"
   ]
  },
  {
   "cell_type": "code",
   "execution_count": 53,
   "id": "5e362228",
   "metadata": {},
   "outputs": [
    {
     "name": "stdout",
     "output_type": "stream",
     "text": [
      "[1, 2, 3, 4, 5, 6, 21]\n"
     ]
    }
   ],
   "source": [
    "sd=[1,2,3,4,5,6,2,1,3,21,4,6]\n",
    "sd=set(sd)\n",
    "sd=list(sd)\n",
    "print(sd)"
   ]
  },
  {
   "cell_type": "markdown",
   "id": "282337f7",
   "metadata": {},
   "source": [
    "**29-Given list values and keys list, convert these values to key value pairs in form of list of dictionaries. (Input : test_list = [“Gfg”, 3, “is”, 8], key_list = [“name”, “id”]\n",
    "Output : [{‘name’: ‘Gfg’, ‘id’: 3}, {‘name’: ‘is’, ‘id’: 8}])"
   ]
  },
  {
   "cell_type": "code",
   "execution_count": 82,
   "id": "4d4e2d28",
   "metadata": {},
   "outputs": [
    {
     "name": "stdout",
     "output_type": "stream",
     "text": [
      "0     Gfg\n",
      "hello\n",
      "1     3\n",
      "2     is\n",
      "hello\n",
      "3     8\n",
      "[{'name1': 'Gfg', 'id': 3}, {'name1': 'is', 'id': 8}]\n"
     ]
    }
   ],
   "source": [
    "list1=[\"Gfg\", 3, \"is\", 8]\n",
    "list2=[]\n",
    "dic={}\n",
    "for i,v in enumerate(list1):\n",
    "    print(i,\"   \",v)\n",
    "    if i%2==0 or i==0:\n",
    "        print(\"hello\")\n",
    "        dic[\"name1\"]=v\n",
    "    else:\n",
    "        dic[\"id\"]=v\n",
    "        list2.append(dic)\n",
    "        dic={}\n",
    "print(list2)\n",
    "        \n",
    "        \n",
    "    \n",
    "    \n",
    "    "
   ]
  },
  {
   "cell_type": "markdown",
   "id": "c26b6e9f",
   "metadata": {},
   "source": [
    "**30-write a python program to count unique values inside a list using different ways"
   ]
  },
  {
   "cell_type": "code",
   "execution_count": 83,
   "id": "72132667",
   "metadata": {},
   "outputs": [
    {
     "name": "stdout",
     "output_type": "stream",
     "text": [
      "No of unique items are: 5\n",
      "5\n"
     ]
    }
   ],
   "source": [
    "input_list = [1, 2, 2, 5, 8, 4, 4, 8]\n",
    "l1 = []\n",
    "count = 0\n",
    "for item in input_list:\n",
    "    if item not in l1:\n",
    "        count += 1\n",
    "        l1.append(item)\n",
    "# printing the output\n",
    "print(\"No of unique items are:\", count)\n",
    "\n",
    "input_list = set(input_list)\n",
    "print(len(input_list))\n"
   ]
  },
  {
   "cell_type": "markdown",
   "id": "fed6677c",
   "metadata": {},
   "source": [
    "**31-write a python program Extract all elements with Frequency greater than K (Input : test_list = [4, 6, 4, 3, 3, 4, 3, 4, 3, 8], K = 3 \n",
    "Output : [4, 3] )"
   ]
  },
  {
   "cell_type": "code",
   "execution_count": 84,
   "id": "d81f3f9d",
   "metadata": {},
   "outputs": [
    {
     "name": "stdout",
     "output_type": "stream",
     "text": [
      "The original list : [4, 6, 4, 3, 3, 4, 3, 7, 8, 8]\n",
      "The required elements : [4, 3]\n"
     ]
    }
   ],
   "source": [
    "from collections import Counter\n",
    "# initializing list\n",
    "test_list = [4, 6, 4, 3, 3, 4, 3, 7, 8, 8] \n",
    "# printing string\n",
    "print(\"The original list : \" + str(test_list))\n",
    "# initializing K\n",
    "K = 2\n",
    "# using list comprehension to bind result\n",
    "res = [ele for ele, cnt in Counter(test_list).items() if cnt > K]\n",
    "# printing results\n",
    "print(\"The required elements : \" + str(res))"
   ]
  },
  {
   "cell_type": "markdown",
   "id": "caca5224",
   "metadata": {},
   "source": [
    "**32-write a python program to find the Strongest Neighbour (Input: 1 2 2 3 4 5\n",
    "Output: 2 2 3 4 5)"
   ]
  },
  {
   "cell_type": "code",
   "execution_count": 85,
   "id": "39fbd9b2",
   "metadata": {},
   "outputs": [
    {
     "name": "stdout",
     "output_type": "stream",
     "text": [
      "[2, 2, 3, 4, 5]\n"
     ]
    }
   ],
   "source": [
    "k=[1,2,2,3,4,5]\n",
    "list1=[]\n",
    "for i in range(1,len(k)):\n",
    "    list1.append(max(k[i-1],k[i]))\n",
    "print(list1)\n",
    "    \n",
    "    "
   ]
  },
  {
   "cell_type": "markdown",
   "id": "a9fa8baf",
   "metadata": {},
   "source": [
    "**33-write a Python Program to print all Possible Combinations from the three Digits (Input: [1, 2, 3]\n",
    "Output:\n",
    "1 2 3 ##\n",
    "1 3 2 ##\n",
    "2 1 3 ##\n",
    "2 3 1 ##\n",
    "3 1 2 ##\n",
    "3 2 1)"
   ]
  },
  {
   "cell_type": "code",
   "execution_count": 90,
   "id": "8c520a76",
   "metadata": {},
   "outputs": [
    {
     "name": "stdout",
     "output_type": "stream",
     "text": [
      "1 2 3\n",
      "1 3 2\n",
      "2 1 3\n",
      "2 3 1\n",
      "3 1 2\n",
      "3 2 1\n"
     ]
    }
   ],
   "source": [
    "def comb(L):     \n",
    "    for i in range(3):\n",
    "        for j in range(3):\n",
    "            for k in range(3):\n",
    "                  \n",
    "                # check if the indexes are not\n",
    "                # same\n",
    "                if (i!=j and j!=k and i!=k):\n",
    "                    print(L[i], L[j], L[k])\n",
    "                      \n",
    "# Driver Code\n",
    "comb([1, 2, 3])"
   ]
  },
  {
   "cell_type": "markdown",
   "id": "5288bb89",
   "metadata": {},
   "source": [
    "**34-write a Python program to find all the Combinations in the list with the given condition (Input: test_list = [1,2,3] \n",
    "Output: \n",
    " [1], [1, 2], [1, 2, 3], [1, 3]\n",
    " [2], [2, 3], [3])"
   ]
  },
  {
   "cell_type": "code",
   "execution_count": 92,
   "id": "59b89646",
   "metadata": {},
   "outputs": [
    {
     "name": "stdout",
     "output_type": "stream",
     "text": [
      "[[1], [2], [3], [1, 2], [1, 3], [2, 3], [1, 2, 3]]\n"
     ]
    }
   ],
   "source": [
    "from itertools import combinations\n",
    "test_list = [1, 2, 3]\n",
    "combinations_list = []\n",
    "for r in range(1, len(test_list) + 1):\n",
    "    for combination in combinations(test_list, r):\n",
    "        combinations_list.append(list(combination))\n",
    "print(combinations_list)"
   ]
  },
  {
   "cell_type": "markdown",
   "id": "39973705",
   "metadata": {},
   "source": [
    "**35-write a Python program to get all unique combinations of two Lists (List_1 = [\"a\",\"b\"]\n",
    "List_2 = [1,2]\n",
    "Unique_combination = [[('a',1),('b',2)],[('a',2),('b',1)]] )"
   ]
  },
  {
   "cell_type": "code",
   "execution_count": 93,
   "id": "8c4ba22b",
   "metadata": {},
   "outputs": [
    {
     "name": "stdout",
     "output_type": "stream",
     "text": [
      "[[('a', 1), ('b', 2)], [('b', 1), ('a', 2)]]\n"
     ]
    }
   ],
   "source": [
    "# python program to demonstrate\n",
    "# unique combination of two lists\n",
    "# using zip() and permutation of itertools\n",
    " \n",
    "# import itertools package\n",
    "import itertools\n",
    "from itertools import permutations\n",
    " \n",
    "# initialize lists\n",
    "list_1 = [\"a\", \"b\"]\n",
    "list_2 = [1,2]\n",
    " \n",
    "# create empty list to store the\n",
    "# combinations\n",
    "unique_combinations = []\n",
    " \n",
    "# Getting all permutations of list_1\n",
    "# with length of list_2\n",
    "permut = itertools.permutations(list_1, len(list_2))\n",
    " \n",
    "# zip() is called to pair each permutation\n",
    "# and shorter list element into combination\n",
    "for comb in permut:\n",
    "    zipped = zip(comb, list_2)\n",
    "    unique_combinations.append(list(zipped))\n",
    " \n",
    "# printing unique_combination list\n",
    "print(unique_combinations)"
   ]
  },
  {
   "cell_type": "markdown",
   "id": "25199af5",
   "metadata": {},
   "source": [
    "**36-Remove all the occurrences of an element from a list in Python (Input : 1 1 2 3 4 5 1 2 1 \n",
    "\n",
    "**Output : 2 3 4 5 2)"
   ]
  },
  {
   "cell_type": "code",
   "execution_count": 100,
   "id": "6dc4c2ba",
   "metadata": {},
   "outputs": [
    {
     "name": "stdout",
     "output_type": "stream",
     "text": [
      "1\n",
      "1\n",
      "[2, 3, 4, 5, 2]\n"
     ]
    }
   ],
   "source": [
    "list1=[1,1,2,3,4,5,1,2,1]\n",
    "max1=0\n",
    "for i in list1:\n",
    "    if max1<list1.count(i):\n",
    "        max1=i\n",
    "newlist = [value for value in list1 if value != max1]\n",
    "print(newlist)"
   ]
  },
  {
   "cell_type": "markdown",
   "id": "bf1a3c93",
   "metadata": {},
   "source": [
    "**37-write a python program to Replace index elements with elements in Other List (The original list 1 is : [‘Gfg’, ‘is’, ‘best’] The original list 2 is : [0, 1, 2, 1, 0, 0, 0, 2, 1, 1, 2, 0] The lists after index elements replacements is : [‘Gfg’, ‘is’, ‘best’, ‘is’, ‘Gfg’, ‘Gfg’, ‘Gfg’, ‘best’, ‘is’, ‘is’, ‘best’, ‘Gfg’])"
   ]
  },
  {
   "cell_type": "code",
   "execution_count": 101,
   "id": "fdd66a71",
   "metadata": {},
   "outputs": [
    {
     "name": "stdout",
     "output_type": "stream",
     "text": [
      "['GFg', 'is', 'best', 'is', 'GFg', 'GFg', 'GFg', 'best', 'is', 'is', 'best', 'GFg']\n"
     ]
    }
   ],
   "source": [
    "list1 = [\"GFg\", \"is\",\"best\"]\n",
    "list2 = [0, 1, 2, 1, 0, 0, 0, 2, 1, 1, 2, 0]\n",
    "for i, v in enumerate(list2):\n",
    "    list2[i] = list1[v]\n",
    "print(list2)"
   ]
  },
  {
   "cell_type": "markdown",
   "id": "af0f56e8",
   "metadata": {},
   "source": [
    "**38- write python program to Retain records with N occurrences of K(Input : test_list = [(4, 5, 5, 4), (5, 4, 3)], K = 5, N = 2 \n",
    "Output : [(4, 5, 5, 4)]\n",
    "Input : test_list = [(4, 5, 5, 4), (5, 4, 3)], K = 5, N = 3 \n",
    "Output : [] )"
   ]
  },
  {
   "cell_type": "code",
   "execution_count": 107,
   "id": "67b06671",
   "metadata": {},
   "outputs": [
    {
     "name": "stdout",
     "output_type": "stream",
     "text": [
      "The original list is : ([(4, 5, 5, 4, 5, 3, 3, 3), (5, 4, 3)],)\n",
      "Filtered tuples : []\n"
     ]
    }
   ],
   "source": [
    "test_list = [(4, 5, 5, 4), (5, 4, 3)],\n",
    "print(\"The original list is : \" + str(test_list))\n",
    "K = 5\n",
    " \n",
    "# initializing N\n",
    "N = 3\n",
    " \n",
    "# Retain records with N occurrences of K\n",
    "# Using count() + list comprehension\n",
    "res = [ele for ele in test_list if ele.count(K) == N]\n",
    " \n",
    "# printing result\n",
    "print(\"Filtered tuples : \" + str(res))\n"
   ]
  },
  {
   "cell_type": "markdown",
   "id": "de76f183",
   "metadata": {},
   "source": [
    "**39-write a Python Program to Sort the list according to the column using lambda\n",
    "array = [[1, 3, 3], [2, 1, 2], [3, 2, 1]]\n",
    "Output :\n",
    "Sorted array specific to column 0, [[1, 3, 3], [2, 1, 2], [3, 2, 1]]\n",
    "Sorted array specific to column 1, [[2, 1, 2], [3, 2, 1], [1, 3, 3]]\n",
    "Sorted array specific to column 2, [[3, 2, 1], [2, 1, 2], [1, 3, 3]]"
   ]
  },
  {
   "cell_type": "code",
   "execution_count": 108,
   "id": "dc883308",
   "metadata": {},
   "outputs": [
    {
     "name": "stdout",
     "output_type": "stream",
     "text": [
      "Sorted array specific to column 0 : [[1, 3, 3], [2, 1, 2], [3, 2, 1]]\n",
      "Sorted array specific to column 1 : [[2, 1, 2], [3, 2, 1], [1, 3, 3]]\n",
      "Sorted array specific to column 2 : [[3, 2, 1], [2, 1, 2], [1, 3, 3]]\n"
     ]
    }
   ],
   "source": [
    "array = [[1, 3, 3], [2, 1, 2], [3, 2, 1]]\n",
    "\n",
    "for i in range(len(array)):\n",
    "    sorted_array = sorted(array, key=lambda x: x[i])\n",
    "    print(\"Sorted array specific to column\", i, \":\", sorted_array)"
   ]
  },
  {
   "cell_type": "code",
   "execution_count": null,
   "id": "d2e7b31f",
   "metadata": {},
   "outputs": [],
   "source": [
    "**40- write a program to Sort Python Dictionaries by Key or Value\n",
    "Input:\n",
    "{'ravi': 10, 'rajnish': 9, 'sanjeev': 15, 'yash': 2, 'suraj': 32}\n",
    "\n",
    "Output: \n",
    "{'rajnish': 9, 'ravi': 10, 'sanjeev': 15, 'suraj': 32, 'yash': 2}"
   ]
  },
  {
   "cell_type": "code",
   "execution_count": 110,
   "id": "a96db4a0",
   "metadata": {},
   "outputs": [
    {
     "name": "stdout",
     "output_type": "stream",
     "text": [
      "[('yash', 2), ('rajnish', 9), ('ravi', 10), ('sanjeev', 15), ('suraj', 32)]\n"
     ]
    }
   ],
   "source": [
    "dic = {'ravi': 10, 'rajnish': 9, 'sanjeev': 15, 'yash': 2, 'suraj': 32}\n",
    "sorted_dic = sorted(dic.items(), key=lambda x: x[1])\n",
    "\n",
    "print(sorted_dic)"
   ]
  },
  {
   "cell_type": "markdown",
   "id": "ec63c23a",
   "metadata": {},
   "source": [
    "### **41-write python program to Remove keys with Values Greater than K ( Including mixed values )\n",
    "nput : test_dict = {‘Gfg’ : 3, ‘is’ : 7, ‘best’ : 10, ‘for’ : 6, ‘geeks’ : ‘CS’},\n",
    "K = 7 \n",
    "Output : {‘Gfg’ : 3, ‘for’ : 6, ‘geeks’ : ‘CS’}"
   ]
  },
  {
   "cell_type": "code",
   "execution_count": 5,
   "id": "e39c3a40",
   "metadata": {},
   "outputs": [
    {
     "name": "stdout",
     "output_type": "stream",
     "text": [
      "{'Gfg': 3, 'is': 7, 'for': 6}\n"
     ]
    }
   ],
   "source": [
    "test_dict = {\"Gfg\": 3, \"is\": 7, \"best\": 10, \"for\": 6, \"geeks\": \"CS\"}\n",
    "k = 7\n",
    "new_dict = {}\n",
    "for key, value in test_dict.items():\n",
    "    if isinstance(value, int) and value <= k:\n",
    "        new_dict[key] = value\n",
    "test_dict = new_dict\n",
    "print(test_dict)\n",
    "    "
   ]
  },
  {
   "cell_type": "markdown",
   "id": "f143f0fe",
   "metadata": {},
   "source": [
    "**42-Write a Python program to concatenate the following dictionaries to create a new one\n",
    "\n",
    "Sample Dictionary :\n",
    "dic1={1:10, 2:20}\n",
    "dic2={3:30, 4:40}\n",
    "dic3={5:50,6:60}\n",
    "Expected Result : {1: 10, 2: 20, 3: 30, 4: 40, 5: 50, 6: 60}"
   ]
  },
  {
   "cell_type": "code",
   "execution_count": 7,
   "id": "74ffdfea",
   "metadata": {},
   "outputs": [
    {
     "name": "stdout",
     "output_type": "stream",
     "text": [
      "{1: 10, 2: 20, 3: 30, 4: 40, 5: 50, 6: 60}\n"
     ]
    }
   ],
   "source": [
    "dic1 = {1: 10, 2: 20}\n",
    "dic2 = {3: 30, 4: 40}\n",
    "dic3 = {5: 50, 6: 60}\n",
    "\n",
    "dic4 = {}\n",
    "dic4.update(dic1)\n",
    "dic4.update(dic2)\n",
    "dic4.update(dic3)\n",
    "\n",
    "print(dic4)"
   ]
  },
  {
   "cell_type": "markdown",
   "id": "fb04c93c",
   "metadata": {},
   "source": [
    "**43-Write a Python program to iterate over dictionaries using for loops"
   ]
  },
  {
   "cell_type": "code",
   "execution_count": 12,
   "id": "6aebc470",
   "metadata": {},
   "outputs": [
    {
     "name": "stdout",
     "output_type": "stream",
     "text": [
      "key number  1 1\n",
      "value number  1 10\n",
      "key number  2 2\n",
      "value number  2 20\n",
      "key number  3 3\n",
      "value number  3 30\n",
      "key number  4 4\n",
      "value number  4 40\n",
      "key number  5 5\n",
      "value number  5 50\n",
      "key number  6 6\n",
      "value number  6 60\n"
     ]
    }
   ],
   "source": [
    "dic={1: 10, 2: 20, 3: 30, 4: 40, 5: 50, 6: 60}\n",
    "for i,v in enumerate(dic.items()):\n",
    "    print(\"key number \",(i+1),v[0])\n",
    "    print(\"value number \",(i+1),v[1])"
   ]
  },
  {
   "cell_type": "markdown",
   "id": "5f491a9d",
   "metadata": {},
   "source": [
    "**44- Write a Python script to merge two Python dictionaries"
   ]
  },
  {
   "cell_type": "code",
   "execution_count": 13,
   "id": "b8a14028",
   "metadata": {},
   "outputs": [
    {
     "name": "stdout",
     "output_type": "stream",
     "text": [
      "{'a': 1, 'b': 2, 'c': 3, 'd': 4}\n"
     ]
    }
   ],
   "source": [
    "dict1 = {'a': 1, 'b': 2}\n",
    "dict2 = {'c': 3, 'd': 4}\n",
    "\n",
    "dict1.update(dict2)\n",
    "print(dict1)"
   ]
  },
  {
   "cell_type": "markdown",
   "id": "216fc72d",
   "metadata": {},
   "source": [
    "**45-Write a Python program to get the maximum and minimum values of a dictionary values"
   ]
  },
  {
   "cell_type": "code",
   "execution_count": 14,
   "id": "d6883f5f",
   "metadata": {},
   "outputs": [
    {
     "name": "stdout",
     "output_type": "stream",
     "text": [
      "the min = 1\n",
      "the max = 4\tthanks"
     ]
    }
   ],
   "source": [
    "dic={'a': 1, 'b': 2, 'c': 3, 'd': 4}\n",
    "min1=min(dic.values())\n",
    "max1=max(dic.values())\n",
    "print(\"the min = \"+str(min1)+\"\\n\"+\"the max = \"+str(max1),end=\"\\tthanks\")"
   ]
  },
  {
   "cell_type": "markdown",
   "id": "b6a53011",
   "metadata": {},
   "source": [
    "**46- Write a Python program to drop empty items from a given dictionary.\n",
    "Original Dictionary:\n",
    "{'c1': 'Red', 'c2': 'Green', 'c3': None}\n",
    "New Dictionary after dropping empty items:\n",
    "{'c1': 'Red', 'c2': 'Green'}"
   ]
  },
  {
   "cell_type": "code",
   "execution_count": 15,
   "id": "b5c6fecf",
   "metadata": {},
   "outputs": [
    {
     "name": "stdout",
     "output_type": "stream",
     "text": [
      "Original Dictionary: {'c1': 'Red', 'c2': 'Green', 'c3': None}\n",
      "New Dictionary after dropping empty items: {'c1': 'Red', 'c2': 'Green'}\n"
     ]
    }
   ],
   "source": [
    "original_dict = {'c1': 'Red', 'c2': 'Green', 'c3': None}\n",
    "new_dict = {key: value for key, value in original_dict.items() if value is not None}\n",
    "print(\"Original Dictionary:\", original_dict)\n",
    "print(\"New Dictionary after dropping empty items:\", new_dict)"
   ]
  },
  {
   "cell_type": "markdown",
   "id": "46d718c7",
   "metadata": {},
   "source": [
    "**47-Write a Python program to create a tuple of numbers and print one item"
   ]
  },
  {
   "cell_type": "code",
   "execution_count": 16,
   "id": "13216ff5",
   "metadata": {},
   "outputs": [
    {
     "name": "stdout",
     "output_type": "stream",
     "text": [
      "The first item in the tuple is: 1\n"
     ]
    }
   ],
   "source": [
    "# Create a tuple of numbers\n",
    "my_tuple = (1, 2, 3, 4, 5)\n",
    "\n",
    "# Print the first item\n",
    "print(\"The first item in the tuple is:\", my_tuple[0])"
   ]
  },
  {
   "cell_type": "markdown",
   "id": "2be5b56b",
   "metadata": {},
   "source": [
    "**48-Write a Python program to unpack a tuple into several variables"
   ]
  },
  {
   "cell_type": "code",
   "execution_count": 17,
   "id": "595f44be",
   "metadata": {},
   "outputs": [
    {
     "name": "stdout",
     "output_type": "stream",
     "text": [
      "a = 1\n",
      "b = 2\n",
      "c = 3\n"
     ]
    }
   ],
   "source": [
    "# Define a tuple of values\n",
    "my_tuple = (1, 2, 3)\n",
    "\n",
    "# Unpack the tuple into separate variables\n",
    "a, b, c = my_tuple\n",
    "\n",
    "# Print the values of the variables\n",
    "print(\"a =\", a)\n",
    "print(\"b =\", b)\n",
    "print(\"c =\", c)"
   ]
  },
  {
   "cell_type": "markdown",
   "id": "392388a7",
   "metadata": {},
   "source": [
    "**49-Write a Python program to add an item to a tuple"
   ]
  },
  {
   "cell_type": "code",
   "execution_count": null,
   "id": "54cc092e",
   "metadata": {},
   "outputs": [],
   "source": [
    "# Define a tuple of values\n",
    "my_tuple = (1, 2, 3)\n",
    "\n",
    "# Add a new item to the tuple\n",
    "new_tuple = my_tuple + (4,)\n",
    "\n",
    "# Print the new tuple\n",
    "print(\"The new tuple is:\", new_tuple)"
   ]
  },
  {
   "cell_type": "markdown",
   "id": "3e8fd124",
   "metadata": {},
   "source": [
    "**50-Write a Python program to convert a tuple to a string"
   ]
  },
  {
   "cell_type": "code",
   "execution_count": 18,
   "id": "92a71ddc",
   "metadata": {},
   "outputs": [
    {
     "name": "stdout",
     "output_type": "stream",
     "text": [
      "The string is: 123\n"
     ]
    }
   ],
   "source": [
    "# Define a tuple of values\n",
    "my_tuple = (1, 2, 3)\n",
    "\n",
    "# Convert the tuple to a string\n",
    "my_string = ''.join(str(item) for item in my_tuple)\n",
    "\n",
    "# Print the string\n",
    "print(\"The string is:\", my_string)"
   ]
  },
  {
   "cell_type": "markdown",
   "id": "f4f64ef4",
   "metadata": {},
   "source": [
    "**51-Write a Python program to convert a list to a tuple"
   ]
  },
  {
   "cell_type": "code",
   "execution_count": 19,
   "id": "210d56d3",
   "metadata": {},
   "outputs": [
    {
     "name": "stdout",
     "output_type": "stream",
     "text": [
      "The tuple is: (1, 2, 3)\n"
     ]
    }
   ],
   "source": [
    "# Define a list of values\n",
    "my_list = [1, 2, 3]\n",
    "\n",
    "# Convert the list to a tuple\n",
    "my_tuple = tuple(my_list)\n",
    "\n",
    "# Print the tuple\n",
    "print(\"The tuple is:\", my_tuple)"
   ]
  },
  {
   "cell_type": "markdown",
   "id": "b1e00ef7",
   "metadata": {},
   "source": [
    "**52-Write a Python program to reverse a tuple"
   ]
  },
  {
   "cell_type": "code",
   "execution_count": 20,
   "id": "f45bfdc7",
   "metadata": {},
   "outputs": [
    {
     "name": "stdout",
     "output_type": "stream",
     "text": [
      "The reversed tuple is: (3, 2, 1)\n"
     ]
    }
   ],
   "source": [
    "# Define a tuple of values\n",
    "my_tuple = (1, 2, 3)\n",
    "\n",
    "# Reverse the tuple\n",
    "reversed_tuple = my_tuple[::-1]\n",
    "\n",
    "# Print the reversed tuple\n",
    "print(\"The reversed tuple is:\", reversed_tuple)"
   ]
  },
  {
   "cell_type": "markdown",
   "id": "3cd347d1",
   "metadata": {},
   "source": [
    "**53-Write a Python program to replace the last value of tuples in a list.\n",
    "Sample list: [(10, 20, 40), (40, 50, 60), (70, 80, 90)]\n",
    "Expected Output: [(10, 20, 100), (40, 50, 100), (70, 80, 100)]"
   ]
  },
  {
   "cell_type": "code",
   "execution_count": 21,
   "id": "3c4a2a4c",
   "metadata": {},
   "outputs": [
    {
     "name": "stdout",
     "output_type": "stream",
     "text": [
      "The new list is: [(10, 20, 100), (40, 50, 100), (70, 80, 100)]\n"
     ]
    }
   ],
   "source": [
    "# Define a list of tuples\n",
    "my_list = [(10, 20, 40), (40, 50, 60), (70, 80, 90)]\n",
    "\n",
    "# Replace the last value in each tuple with 100\n",
    "new_list = [tuple(list(tup)[:-1] + [100]) for tup in my_list]\n",
    "\n",
    "# Print the new list\n",
    "print(\"The new list is:\", new_list)"
   ]
  },
  {
   "cell_type": "markdown",
   "id": "76bb7b39",
   "metadata": {},
   "source": [
    "**54-Write a Python program to convert a given string list to a tuple\n",
    "Original string: python 3.0\n",
    "<class 'str'>\n",
    "Convert the said string to a tuple:\n",
    "('p', 'y', 't', 'h', 'o', 'n', '3', '.', '0')"
   ]
  },
  {
   "cell_type": "code",
   "execution_count": 22,
   "id": "51951937",
   "metadata": {},
   "outputs": [
    {
     "name": "stdout",
     "output_type": "stream",
     "text": [
      "The tuple is: ('p', 'y', 't', 'h', 'o', 'n', '3', '0', 'c', 'l', 'a', 's', 's', 's', 't', 'r')\n"
     ]
    }
   ],
   "source": [
    "# Define a string\n",
    "my_string = \"python 3.0 <class 'str'>\"\n",
    "\n",
    "# Convert the string to a tuple\n",
    "my_tuple = tuple([char for char in my_string if char.isalnum()])\n",
    "\n",
    "# Print the tuple\n",
    "print(\"The tuple is:\", my_tuple)"
   ]
  },
  {
   "cell_type": "markdown",
   "id": "5a1d5d97",
   "metadata": {},
   "source": [
    "**55-Write a Python program to calculate the average value of the numbers in a given tuple of tuples"
   ]
  },
  {
   "cell_type": "code",
   "execution_count": 23,
   "id": "834e7992",
   "metadata": {},
   "outputs": [
    {
     "name": "stdout",
     "output_type": "stream",
     "text": [
      "The average value is: 5.0\n"
     ]
    }
   ],
   "source": [
    "# Define a tuple of tuples\n",
    "my_tuple = ((1, 2, 3), (4, 5, 6), (7, 8, 9))\n",
    "\n",
    "# Calculate the average value of the numbers\n",
    "total_sum = 0\n",
    "total_count = 0\n",
    "for tup in my_tuple:\n",
    "    for num in tup:\n",
    "        total_sum += num\n",
    "        total_count += 1\n",
    "\n",
    "average = total_sum / total_count\n",
    "\n",
    "# Print the average value\n",
    "print(\"The average value is:\", average)"
   ]
  },
  {
   "cell_type": "markdown",
   "id": "51edab9c",
   "metadata": {},
   "source": [
    "**56-Write a Python program to add member(s) to a set."
   ]
  },
  {
   "cell_type": "code",
   "execution_count": 24,
   "id": "2b65df79",
   "metadata": {},
   "outputs": [
    {
     "name": "stdout",
     "output_type": "stream",
     "text": [
      "The updated set is: {1, 2, 3, 4, 5, 6, 7}\n"
     ]
    }
   ],
   "source": [
    "# Define a set of values\n",
    "my_set = {1, 2, 3}\n",
    "\n",
    "# Add a single value to the set\n",
    "my_set.add(4)\n",
    "\n",
    "# Add multiple values to the set\n",
    "my_set.update([5, 6, 7])\n",
    "\n",
    "# Print the updated set\n",
    "print(\"The updated set is:\", my_set)"
   ]
  },
  {
   "cell_type": "markdown",
   "id": "965590cc",
   "metadata": {},
   "source": [
    "**57-Write a Python program to remove an item from a set if it is present in the set."
   ]
  },
  {
   "cell_type": "code",
   "execution_count": 25,
   "id": "866bab28",
   "metadata": {},
   "outputs": [
    {
     "name": "stdout",
     "output_type": "stream",
     "text": [
      "The updated set is: {1, 2, 3, 5}\n"
     ]
    }
   ],
   "source": [
    "# Define a set of values\n",
    "my_set = {1, 2, 3, 4, 5}\n",
    "\n",
    "# Remove an item from the set if it is present\n",
    "my_set.discard(4)\n",
    "\n",
    "# Print the updated set\n",
    "print(\"The updated set is:\", my_set)"
   ]
  },
  {
   "cell_type": "markdown",
   "id": "2b7cfed1",
   "metadata": {},
   "source": [
    "**58-Write a Python program to create an intersection,union,difference and symmetric difference of sets"
   ]
  },
  {
   "cell_type": "code",
   "execution_count": 26,
   "id": "7f94b7fe",
   "metadata": {},
   "outputs": [
    {
     "name": "stdout",
     "output_type": "stream",
     "text": [
      "The intersection is: {4, 5}\n",
      "The union is: {1, 2, 3, 4, 5, 6, 7, 8}\n",
      "The difference is: {1, 2, 3}\n",
      "The symmetric difference is: {1, 2, 3, 6, 7, 8}\n"
     ]
    }
   ],
   "source": [
    "# Define two sets of values\n",
    "set1 = {1, 2, 3, 4, 5}\n",
    "set2 = {4, 5, 6, 7, 8}\n",
    "\n",
    "# Create the intersection of the sets\n",
    "intersection = set1.intersection(set2)\n",
    "\n",
    "# Create the union of the sets\n",
    "union = set1.union(set2)\n",
    "\n",
    "# Create the difference between the sets\n",
    "difference = set1.difference(set2)\n",
    "\n",
    "# Create the symmetric difference between the sets\n",
    "symmetric_difference = set1.symmetric_difference(set2)\n",
    "\n",
    "# Print the results\n",
    "print(\"The intersection is:\", intersection)\n",
    "print(\"The union is:\", union)\n",
    "print(\"The difference is:\", difference)\n",
    "print(\"The symmetric difference is:\", symmetric_difference)\n"
   ]
  },
  {
   "cell_type": "markdown",
   "id": "b94931e2",
   "metadata": {},
   "source": [
    "**59-Write a Python program to find the maximum and minimum values in a set"
   ]
  },
  {
   "cell_type": "code",
   "execution_count": null,
   "id": "203f9600",
   "metadata": {},
   "outputs": [],
   "source": [
    "# Define a set of values\n",
    "my_set = {1, 2, 3, 4, 5}\n",
    "\n",
    "# Find the maximum value in the set\n",
    "max_value = max(my_set)\n",
    "\n",
    "# Find the minimum value in the set\n",
    "min_value = min(my_set)\n",
    "\n",
    "# Print the results\n",
    "print(\"The maximum value is:\", max_value)\n",
    "print(\"The minimum value is:\", min_value)"
   ]
  },
  {
   "cell_type": "markdown",
   "id": "255fd554",
   "metadata": {},
   "source": [
    "**60- Write a Python program that finds all pairs of elements in a list whose sum is equal to a given value."
   ]
  },
  {
   "cell_type": "code",
   "execution_count": 27,
   "id": "c2d94e1f",
   "metadata": {},
   "outputs": [
    {
     "name": "stdout",
     "output_type": "stream",
     "text": [
      "Pairs whose sum is equal to 7 :\n",
      "(1, 6)\n",
      "(2, 5)\n",
      "(3, 4)\n"
     ]
    }
   ],
   "source": [
    "# Define a list of values and a target sum\n",
    "my_list = [1, 2, 3, 4, 5, 6]\n",
    "target_sum = 7\n",
    "\n",
    "# Find all pairs of elements whose sum is equal to the target sum\n",
    "pairs = []\n",
    "for i in range(len(my_list)):\n",
    "    for j in range(i+1, len(my_list)):\n",
    "        if my_list[i] + my_list[j] == target_sum:\n",
    "            pairs.append((my_list[i], my_list[j]))\n",
    "\n",
    "# Print the resulting pairs\n",
    "print(\"Pairs whose sum is equal to\", target_sum, \":\")\n",
    "for pair in pairs:\n",
    "    print(pair)"
   ]
  },
  {
   "cell_type": "code",
   "execution_count": null,
   "id": "a2b6040d",
   "metadata": {},
   "outputs": [],
   "source": []
  }
 ],
 "metadata": {
  "kernelspec": {
   "display_name": "Python 3 (ipykernel)",
   "language": "python",
   "name": "python3"
  },
  "language_info": {
   "codemirror_mode": {
    "name": "ipython",
    "version": 3
   },
   "file_extension": ".py",
   "mimetype": "text/x-python",
   "name": "python",
   "nbconvert_exporter": "python",
   "pygments_lexer": "ipython3",
   "version": "3.11.3"
  }
 },
 "nbformat": 4,
 "nbformat_minor": 5
}
