{
 "cells": [
  {
   "cell_type": "code",
   "execution_count": 87,
   "id": "733ff5d0",
   "metadata": {},
   "outputs": [
    {
     "name": "stdout",
     "output_type": "stream",
     "text": [
      "{'Name': 'Ahmed Hafez1', 'Phone': '0102345678', 'Email': 'ahmed@gmail.com'}\n",
      "{'Name': 'Ali Osama2', 'Phone': '0124342342', 'Email': 'ali@gmail.com'}\n",
      "{'Name': 'Ali Osama3', 'Phone': '0124342342', 'Email': 'ali@gmail.com'}\n",
      "{'Name': 'Ali Osama4', 'Phone': '0124342342', 'Email': 'ali@gmail.com'}\n",
      "{'Name': 'Abdallah Aly5', 'Phone': '0124342342', 'Email': 'ali@gmail.com'}\n",
      "{'Name': 'Abdallah Aly6', 'Phone': '0124342342', 'Email': 'ali@gmail.com'}\n",
      "{'Name': 'Abdallah Aly7', 'Phone': '0124342342', 'Email': 'ali@gmail.com'}\n",
      "{'Name': 'Abdallah Aly8', 'Phone': '0124342342', 'Email': 'ali@gmail.com'}\n"
     ]
    }
   ],
   "source": [
    "import re\n",
    "def extract_info(text):\n",
    "    info_pattern = r\"(\\w+\\s\\w+)[\\s_.,](\\d{10})[\\s_.,](\\S+@\\S+)\"\n",
    "    info_pattern1 = r\"(\\d{10})[\\s_.,](\\w+\\s\\w+)[\\s_.,](\\S+@\\S+)\"\n",
    "    entries = re.findall(info_pattern, text)\n",
    "    entries1 = re.findall(info_pattern1, text)\n",
    "    info_list = []\n",
    "    for entry in entries:\n",
    "        name, phone, email = entry\n",
    "        info_list.append({\n",
    "            'Name': name,\n",
    "            'Phone': phone,\n",
    "            'Email': email\n",
    "        })\n",
    "    for entry in entries1:\n",
    "        phone, name, email = entry\n",
    "        info_list.append({\n",
    "            'Name': name,\n",
    "            'Phone': phone,\n",
    "            'Email': email\n",
    "        })\n",
    "    return info_list\n",
    "\n",
    "file_path = r\"C:\\Users\\LENOVO LAP\\Desktop\\Task.txt\"\n",
    "\n",
    "try:\n",
    "    with open(file_path, \"r\") as f:  \n",
    "        content = f.read()\n",
    "        extracted_info = extract_info(content)\n",
    "        for entry in extracted_info:\n",
    "            print(entry)\n",
    "except FileNotFoundError:\n",
    "    print(\"The file could not be found.\")\n",
    "except Exception as e:\n",
    "    print(\"An error occurred:\", e)\n"
   ]
  },
  {
   "cell_type": "code",
   "execution_count": null,
   "id": "4eab6218",
   "metadata": {},
   "outputs": [],
   "source": []
  },
  {
   "cell_type": "code",
   "execution_count": null,
   "id": "50504d9a",
   "metadata": {},
   "outputs": [],
   "source": []
  }
 ],
 "metadata": {
  "kernelspec": {
   "display_name": "Python 3 (ipykernel)",
   "language": "python",
   "name": "python3"
  },
  "language_info": {
   "codemirror_mode": {
    "name": "ipython",
    "version": 3
   },
   "file_extension": ".py",
   "mimetype": "text/x-python",
   "name": "python",
   "nbconvert_exporter": "python",
   "pygments_lexer": "ipython3",
   "version": "3.11.4"
  }
 },
 "nbformat": 4,
 "nbformat_minor": 5
}
